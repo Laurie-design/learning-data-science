{
  "nbformat": 4,
  "nbformat_minor": 0,
  "metadata": {
    "colab": {
      "provenance": [],
      "include_colab_link": true
    },
    "kernelspec": {
      "name": "python3",
      "display_name": "Python 3"
    },
    "language_info": {
      "name": "python"
    }
  },
  "cells": [
    {
      "cell_type": "markdown",
      "metadata": {
        "id": "view-in-github",
        "colab_type": "text"
      },
      "source": [
        "<a href=\"https://colab.research.google.com/github/Laurie-design/learning-data-science/blob/main/Index.ipynb\" target=\"_parent\"><img src=\"https://colab.research.google.com/assets/colab-badge.svg\" alt=\"Open In Colab\"/></a>"
      ]
    },
    {
      "cell_type": "code",
      "source": [
        "print(\"aimee\")\n"
      ],
      "metadata": {
        "colab": {
          "base_uri": "https://localhost:8080/"
        },
        "id": "8LvvveAV1eZn",
        "outputId": "2a9bd5be-df2d-4330-d67e-26b344c8ecb1"
      },
      "execution_count": null,
      "outputs": [
        {
          "output_type": "stream",
          "name": "stdout",
          "text": [
            "aimee\n"
          ]
        }
      ]
    },
    {
      "cell_type": "code",
      "source": [],
      "metadata": {
        "id": "wvZpB50mn7Zs"
      },
      "execution_count": null,
      "outputs": []
    },
    {
      "cell_type": "markdown",
      "source": [
        "Pour calculer la moyenne"
      ],
      "metadata": {
        "id": "GqFtiQtO7RB-"
      }
    },
    {
      "cell_type": "code",
      "source": [
        "import numpy as np\n",
        "revenu=[100, 2000,3000,4000]\n",
        "revenu_array = np.mean(revenu)\n",
        "revenu_array"
      ],
      "metadata": {
        "colab": {
          "base_uri": "https://localhost:8080/"
        },
        "id": "Bt7ykQaP2J1D",
        "outputId": "84b44dbc-34dd-40a6-8200-994aea2077ae"
      },
      "execution_count": null,
      "outputs": [
        {
          "output_type": "execute_result",
          "data": {
            "text/plain": [
              "np.float64(2275.0)"
            ]
          },
          "metadata": {},
          "execution_count": 6
        }
      ]
    },
    {
      "cell_type": "markdown",
      "source": [
        "## Pour afficher des zéros sur la diagonale"
      ],
      "metadata": {
        "id": "mtFTzm_G7Vfp"
      }
    },
    {
      "cell_type": "code",
      "source": [
        "array_zeros=np.zeros(10)\n",
        "array_zeros"
      ],
      "metadata": {
        "colab": {
          "base_uri": "https://localhost:8080/"
        },
        "id": "6Jqpehzq8DaJ",
        "outputId": "ab0bc980-fe7d-41ca-ad28-f461be08d73d"
      },
      "execution_count": null,
      "outputs": [
        {
          "output_type": "execute_result",
          "data": {
            "text/plain": [
              "array([0., 0., 0., 0., 0., 0., 0., 0., 0., 0.])"
            ]
          },
          "metadata": {},
          "execution_count": 9
        }
      ]
    },
    {
      "cell_type": "markdown",
      "source": [
        "##on aura 0-20 avec des pas de 2"
      ],
      "metadata": {
        "id": "7ya5Ck4X6tSC"
      }
    },
    {
      "cell_type": "code",
      "source": [
        "array_arrange=np.arange(0,20,2)\n",
        "array_arrange"
      ],
      "metadata": {
        "colab": {
          "base_uri": "https://localhost:8080/"
        },
        "id": "eCor_q7ZDeA1",
        "outputId": "cb21f7d6-942b-4c4a-f9a4-595b738da3f6"
      },
      "execution_count": null,
      "outputs": [
        {
          "output_type": "execute_result",
          "data": {
            "text/plain": [
              "array([ 0,  2,  4,  6,  8, 10, 12, 14, 16, 18])"
            ]
          },
          "metadata": {},
          "execution_count": 13
        }
      ]
    },
    {
      "cell_type": "markdown",
      "source": [
        "##On aura 100 éléments avec des virgules c-à-dire(1, 1.1919191919 - 20)"
      ],
      "metadata": {
        "id": "0dOm0rQC6Rxe"
      }
    },
    {
      "cell_type": "code",
      "source": [
        "array_linspace = np.linspace(1,20,100)\n",
        "array_linspace"
      ],
      "metadata": {
        "colab": {
          "base_uri": "https://localhost:8080/"
        },
        "id": "mjgT6wV5FJpx",
        "outputId": "4516aa97-b448-45b7-bd16-d1fdf4aa6c9d"
      },
      "execution_count": null,
      "outputs": [
        {
          "output_type": "execute_result",
          "data": {
            "text/plain": [
              "array([ 1.        ,  1.19191919,  1.38383838,  1.57575758,  1.76767677,\n",
              "        1.95959596,  2.15151515,  2.34343434,  2.53535354,  2.72727273,\n",
              "        2.91919192,  3.11111111,  3.3030303 ,  3.49494949,  3.68686869,\n",
              "        3.87878788,  4.07070707,  4.26262626,  4.45454545,  4.64646465,\n",
              "        4.83838384,  5.03030303,  5.22222222,  5.41414141,  5.60606061,\n",
              "        5.7979798 ,  5.98989899,  6.18181818,  6.37373737,  6.56565657,\n",
              "        6.75757576,  6.94949495,  7.14141414,  7.33333333,  7.52525253,\n",
              "        7.71717172,  7.90909091,  8.1010101 ,  8.29292929,  8.48484848,\n",
              "        8.67676768,  8.86868687,  9.06060606,  9.25252525,  9.44444444,\n",
              "        9.63636364,  9.82828283, 10.02020202, 10.21212121, 10.4040404 ,\n",
              "       10.5959596 , 10.78787879, 10.97979798, 11.17171717, 11.36363636,\n",
              "       11.55555556, 11.74747475, 11.93939394, 12.13131313, 12.32323232,\n",
              "       12.51515152, 12.70707071, 12.8989899 , 13.09090909, 13.28282828,\n",
              "       13.47474747, 13.66666667, 13.85858586, 14.05050505, 14.24242424,\n",
              "       14.43434343, 14.62626263, 14.81818182, 15.01010101, 15.2020202 ,\n",
              "       15.39393939, 15.58585859, 15.77777778, 15.96969697, 16.16161616,\n",
              "       16.35353535, 16.54545455, 16.73737374, 16.92929293, 17.12121212,\n",
              "       17.31313131, 17.50505051, 17.6969697 , 17.88888889, 18.08080808,\n",
              "       18.27272727, 18.46464646, 18.65656566, 18.84848485, 19.04040404,\n",
              "       19.23232323, 19.42424242, 19.61616162, 19.80808081, 20.        ])"
            ]
          },
          "metadata": {},
          "execution_count": 14
        }
      ]
    },
    {
      "cell_type": "markdown",
      "source": [
        "## pour accéder à un indice du tableau"
      ],
      "metadata": {
        "id": "d0TlQ4lZ6-ni"
      }
    },
    {
      "cell_type": "markdown",
      "source": [],
      "metadata": {
        "id": "qBC8q90D7E_4"
      }
    },
    {
      "cell_type": "code",
      "source": [
        "revenu_array=[100, 2000,3000,4000]\n",
        "revenu_array=np.array(revenu)\n",
        "revenu_array[2]"
      ],
      "metadata": {
        "colab": {
          "base_uri": "https://localhost:8080/"
        },
        "id": "zCYs7yFiG2vs",
        "outputId": "81fc1cc6-1ba2-402b-a63a-7dfabe8268d5"
      },
      "execution_count": null,
      "outputs": [
        {
          "output_type": "execute_result",
          "data": {
            "text/plain": [
              "np.int64(3000)"
            ]
          },
          "metadata": {},
          "execution_count": 17
        }
      ]
    },
    {
      "cell_type": "markdown",
      "source": [],
      "metadata": {
        "id": "RHUERxgl6QDe"
      }
    },
    {
      "cell_type": "markdown",
      "source": [
        "## Pour afficher le type des éléments du tableau"
      ],
      "metadata": {
        "id": "zWSoab6y74q3"
      }
    },
    {
      "cell_type": "code",
      "source": [
        "import numpy as np\n",
        "revenu=[100, 2000,3000,4000]\n",
        "revenu_array=np.array(revenu)\n",
        "revenu_array.dtype"
      ],
      "metadata": {
        "colab": {
          "base_uri": "https://localhost:8080/"
        },
        "id": "EGiygKLg6PC8",
        "outputId": "225ae71a-a6a2-4113-b9db-8335930a5ea3"
      },
      "execution_count": null,
      "outputs": [
        {
          "output_type": "execute_result",
          "data": {
            "text/plain": [
              "dtype('int64')"
            ]
          },
          "metadata": {},
          "execution_count": 3
        }
      ]
    },
    {
      "cell_type": "markdown",
      "source": [],
      "metadata": {
        "id": "ZRr6T36q79ZL"
      }
    },
    {
      "cell_type": "markdown",
      "source": [
        "## Pour modifier une valeur dans le tableau"
      ],
      "metadata": {
        "id": "70_YNvLk8Ngu"
      }
    },
    {
      "cell_type": "markdown",
      "source": [],
      "metadata": {
        "id": "Kn9ohsaX8SsP"
      }
    },
    {
      "cell_type": "code",
      "source": [
        "import numpy as np\n",
        "revenu=[100, 2000,3000,4000]\n",
        "revenu_array=np.array(revenu)\n",
        "revenu_array[1] = 2500\n",
        "revenu_array"
      ],
      "metadata": {
        "colab": {
          "base_uri": "https://localhost:8080/"
        },
        "id": "YgeScKxO7-pY",
        "outputId": "9e65a8de-2065-40ae-b457-b8778478956d"
      },
      "execution_count": null,
      "outputs": [
        {
          "output_type": "execute_result",
          "data": {
            "text/plain": [
              "array([ 100, 2500, 3000, 4000])"
            ]
          },
          "metadata": {},
          "execution_count": 4
        }
      ]
    },
    {
      "cell_type": "markdown",
      "source": [
        "## Pour afficher plusieurs éléments du tableau"
      ],
      "metadata": {
        "id": "i2QDeI5g9nAo"
      }
    },
    {
      "cell_type": "code",
      "source": [
        "import numpy as np\n",
        "revenu=[100, 2000,3000,4000]\n",
        "revenu_array=np.array(revenu)\n",
        "revenu_array[0:4]"
      ],
      "metadata": {
        "colab": {
          "base_uri": "https://localhost:8080/"
        },
        "id": "UMqw3TYY8Tz2",
        "outputId": "6cc462ff-cf27-4086-c3de-3f18bb38b452"
      },
      "execution_count": null,
      "outputs": [
        {
          "output_type": "execute_result",
          "data": {
            "text/plain": [
              "array([ 100, 2000, 3000, 4000])"
            ]
          },
          "metadata": {},
          "execution_count": 5
        }
      ]
    },
    {
      "cell_type": "markdown",
      "source": [
        "##Pour afficher les 2 premiers éléments du tableau"
      ],
      "metadata": {
        "id": "bh-k_kPC9u2r"
      }
    },
    {
      "cell_type": "code",
      "source": [
        "import numpy as np\n",
        "revenu=[100, 2000,3000,4000]\n",
        "revenu_array=np.array(revenu)\n",
        "revenu_array[:2]\n"
      ],
      "metadata": {
        "colab": {
          "base_uri": "https://localhost:8080/"
        },
        "id": "554upnKP9uHm",
        "outputId": "e3037f3c-94ab-4eac-d342-af427aaffaff"
      },
      "execution_count": null,
      "outputs": [
        {
          "output_type": "execute_result",
          "data": {
            "text/plain": [
              "array([ 100, 2000])"
            ]
          },
          "metadata": {},
          "execution_count": 7
        }
      ]
    },
    {
      "cell_type": "markdown",
      "source": [
        "##Pour afficher les 2 derniers éléments du tableau"
      ],
      "metadata": {
        "id": "yktwXZkJ-BTg"
      }
    },
    {
      "cell_type": "code",
      "source": [
        "import numpy as np\n",
        "revenu=[100, 2000,3000,4000]\n",
        "revenu_array=np.array(revenu)\n",
        "revenu_array[2:]\n"
      ],
      "metadata": {
        "colab": {
          "base_uri": "https://localhost:8080/"
        },
        "id": "3gJaONGh-GgE",
        "outputId": "25be4048-7085-4af5-a4f0-0c891efecfd8"
      },
      "execution_count": null,
      "outputs": [
        {
          "output_type": "execute_result",
          "data": {
            "text/plain": [
              "array([3000, 4000])"
            ]
          },
          "metadata": {},
          "execution_count": 8
        }
      ]
    },
    {
      "cell_type": "markdown",
      "source": [
        "##Pour afficher un élément sur deux"
      ],
      "metadata": {
        "id": "VhO1m5IDD8OL"
      }
    },
    {
      "cell_type": "code",
      "source": [
        "import numpy as np\n",
        "revenu=[100, 2000]\n",
        "revenu_array=np.array(revenu)\n",
        "revenu_array[::2]"
      ],
      "metadata": {
        "colab": {
          "base_uri": "https://localhost:8080/"
        },
        "id": "UEwMqu7FEBAO",
        "outputId": "0878e35d-c838-4442-e79a-48bd776f6e89"
      },
      "execution_count": null,
      "outputs": [
        {
          "output_type": "execute_result",
          "data": {
            "text/plain": [
              "array([100])"
            ]
          },
          "metadata": {},
          "execution_count": 12
        }
      ]
    },
    {
      "cell_type": "markdown",
      "source": [
        "##Si le pas est négatif, le tableau est inversé"
      ],
      "metadata": {
        "id": "-NJJ2Xm7DOYn"
      }
    },
    {
      "cell_type": "code",
      "source": [
        "import numpy as np\n",
        "revenu=[100, 2000,3000,4000]\n",
        "revenu_array=np.array(revenu)\n",
        "revenu_array[::-1]\n"
      ],
      "metadata": {
        "colab": {
          "base_uri": "https://localhost:8080/"
        },
        "id": "zD_JqsvhDMES",
        "outputId": "d522e63b-1e59-4a5b-cc4f-80f9ce4c7729"
      },
      "execution_count": null,
      "outputs": [
        {
          "output_type": "execute_result",
          "data": {
            "text/plain": [
              "array([4000, 3000, 2000,  100])"
            ]
          },
          "metadata": {},
          "execution_count": 10
        }
      ]
    },
    {
      "cell_type": "code",
      "source": [
        "##afficher selon une condition"
      ],
      "metadata": {
        "id": "6TPgclbgCKhF"
      },
      "execution_count": null,
      "outputs": []
    },
    {
      "cell_type": "code",
      "source": [
        "revenu=[1000, 2000,3000,4000]\n",
        "revenu_array=np.array(revenu)\n",
        "revenu_array[revenu_array < 2000]"
      ],
      "metadata": {
        "colab": {
          "base_uri": "https://localhost:8080/"
        },
        "id": "LxmUHzI7COkH",
        "outputId": "c0598589-d05f-40fa-84f7-c91e9a78da13"
      },
      "execution_count": null,
      "outputs": [
        {
          "output_type": "execute_result",
          "data": {
            "text/plain": [
              "array([1000])"
            ]
          },
          "metadata": {},
          "execution_count": 9
        }
      ]
    },
    {
      "cell_type": "code",
      "source": [
        "revenu=[1000, 2000,3000,4000]\n",
        "revenu_array=np.array(revenu)\n",
        "revenu_array[(revenu_array > 1000) & (revenu_array < 3000)]"
      ],
      "metadata": {
        "colab": {
          "base_uri": "https://localhost:8080/"
        },
        "id": "QCF26DQyErLa",
        "outputId": "9768e5c7-b447-4de6-9953-884106a772b6"
      },
      "execution_count": null,
      "outputs": [
        {
          "output_type": "execute_result",
          "data": {
            "text/plain": [
              "array([2000])"
            ]
          },
          "metadata": {},
          "execution_count": 13
        }
      ]
    },
    {
      "cell_type": "markdown",
      "source": [
        "##pour remplacer les éléments inférieur à 2000 par 100"
      ],
      "metadata": {
        "id": "3Q-72NALWMrJ"
      }
    },
    {
      "cell_type": "code",
      "source": [
        "revenu=[1000, 2000,3000,4000]\n",
        "revenu_array=np.array(revenu)\n",
        "revenu_array[revenu_array > 2000] = 100\n",
        "print(revenu_array)"
      ],
      "metadata": {
        "colab": {
          "base_uri": "https://localhost:8080/"
        },
        "id": "TirW2xuVWWlR",
        "outputId": "88686a52-6d20-41a6-917a-139d21443c8b"
      },
      "execution_count": null,
      "outputs": [
        {
          "output_type": "stream",
          "name": "stdout",
          "text": [
            "[1000 2000  100  100]\n"
          ]
        }
      ]
    },
    {
      "cell_type": "markdown",
      "source": [
        "## Obtenir la dimension d'un tableau"
      ],
      "metadata": {
        "id": "5kgAgBLlWpa3"
      }
    },
    {
      "cell_type": "code",
      "source": [
        "revenu=[1000, 2000,3000,4000]\n",
        "revenu_array=np.array(revenu)\n",
        "revenu_array.shape"
      ],
      "metadata": {
        "colab": {
          "base_uri": "https://localhost:8080/"
        },
        "id": "3R1kDuC7XHLL",
        "outputId": "88e6545a-c09a-4dae-b3b3-9081700a126a"
      },
      "execution_count": null,
      "outputs": [
        {
          "output_type": "execute_result",
          "data": {
            "text/plain": [
              "(4,)"
            ]
          },
          "metadata": {},
          "execution_count": 28
        }
      ]
    },
    {
      "cell_type": "markdown",
      "source": [
        "##min et max"
      ],
      "metadata": {
        "id": "jqlLPmhzXb2k"
      }
    },
    {
      "cell_type": "code",
      "source": [
        "revenus_array.max()\n",
        "revenus_array.min()"
      ],
      "metadata": {
        "id": "8tg_DmcxXZiw"
      },
      "execution_count": null,
      "outputs": []
    },
    {
      "cell_type": "markdown",
      "source": [
        "##Accéder à l'indice de l'élément minimum du tableau"
      ],
      "metadata": {
        "id": "DW5DZsTkXmOP"
      }
    },
    {
      "cell_type": "code",
      "source": [
        "revenu=[1000, 2000,3000,4000]\n",
        "revenu_array=np.array(revenu)\n",
        "revenu_array.argmin()"
      ],
      "metadata": {
        "colab": {
          "base_uri": "https://localhost:8080/"
        },
        "id": "kH3VvweUXvX7",
        "outputId": "15ef68ca-f206-4411-f599-1cf26e63c099"
      },
      "execution_count": null,
      "outputs": [
        {
          "output_type": "execute_result",
          "data": {
            "text/plain": [
              "np.int64(0)"
            ]
          },
          "metadata": {},
          "execution_count": 31
        }
      ]
    },
    {
      "cell_type": "markdown",
      "source": [
        "##ordre croissant"
      ],
      "metadata": {
        "id": "gCLv4VklYEma"
      }
    },
    {
      "cell_type": "code",
      "source": [
        "revenu=[10000, 2000,3000,4000]\n",
        "revenu_array=np.array(revenu)\n",
        "revenu_array.sort()\n",
        "print(revenu_array)"
      ],
      "metadata": {
        "colab": {
          "base_uri": "https://localhost:8080/"
        },
        "id": "RiZ4e1TzYIUT",
        "outputId": "1a9677d2-cad4-4756-bf5a-f66511fa7b29"
      },
      "execution_count": null,
      "outputs": [
        {
          "output_type": "stream",
          "name": "stdout",
          "text": [
            "[ 2000  3000  4000 10000]\n"
          ]
        }
      ]
    },
    {
      "cell_type": "markdown",
      "source": [
        "##Somme"
      ],
      "metadata": {
        "id": "r747NX-HYwK2"
      }
    },
    {
      "cell_type": "code",
      "source": [
        "revenu_array.sum()"
      ],
      "metadata": {
        "colab": {
          "base_uri": "https://localhost:8080/"
        },
        "id": "0iOIVGsTY0o7",
        "outputId": "1e5b7d5b-5724-4bc3-ac48-e89c962a204b"
      },
      "execution_count": null,
      "outputs": [
        {
          "output_type": "execute_result",
          "data": {
            "text/plain": [
              "np.int64(3200)"
            ]
          },
          "metadata": {},
          "execution_count": 38
        }
      ]
    },
    {
      "cell_type": "markdown",
      "source": [
        "`*** Tableaux à deux dimensions (3 lignes 2 colonnes) ***`"
      ],
      "metadata": {
        "id": "WZDl9-cwlO8a"
      }
    },
    {
      "cell_type": "code",
      "source": [
        "Tab = np.array([[1,2], [2,3],[4,5]])"
      ],
      "metadata": {
        "id": "BVWgJeE5lZAW"
      },
      "execution_count": null,
      "outputs": []
    },
    {
      "cell_type": "markdown",
      "source": [],
      "metadata": {
        "id": "D398T3c7lurS"
      }
    },
    {
      "cell_type": "markdown",
      "source": [
        "## Un tableau 3 lignes 5 colonnes rempli de 1"
      ],
      "metadata": {
        "id": "UtNVCd20m-Ud"
      }
    },
    {
      "cell_type": "code",
      "source": [
        "import numpy as np\n",
        "tab_ones = np.ones((3,5))\n",
        "tab_ones"
      ],
      "metadata": {
        "colab": {
          "base_uri": "https://localhost:8080/"
        },
        "id": "hN1x3W_jnUQ6",
        "outputId": "171ecc7c-7c32-4699-abf2-8f713a709cc6"
      },
      "execution_count": null,
      "outputs": [
        {
          "output_type": "execute_result",
          "data": {
            "text/plain": [
              "array([[1., 1., 1., 1., 1.],\n",
              "       [1., 1., 1., 1., 1.],\n",
              "       [1., 1., 1., 1., 1.]])"
            ]
          },
          "metadata": {},
          "execution_count": 4
        }
      ]
    },
    {
      "cell_type": "markdown",
      "source": [
        "Un tab 6*3 pour remplir les valeurs aléatoires comprises entre 0 et 1"
      ],
      "metadata": {
        "id": "2GpE9pAAtJZY"
      }
    },
    {
      "cell_type": "code",
      "source": [
        "import numpy as np\n",
        "tab_random = np.random.random((6,3))\n",
        "tab_random"
      ],
      "metadata": {
        "colab": {
          "base_uri": "https://localhost:8080/"
        },
        "id": "ZId4opCLusQY",
        "outputId": "334f2040-13d7-4bac-c81d-7db1f9cdc91f"
      },
      "execution_count": null,
      "outputs": [
        {
          "output_type": "execute_result",
          "data": {
            "text/plain": [
              "array([[0.64955277, 0.23768393, 0.32843075],\n",
              "       [0.20747325, 0.5328467 , 0.84483985],\n",
              "       [0.9324875 , 0.61635956, 0.23652174],\n",
              "       [0.97919783, 0.27432185, 0.15194203],\n",
              "       [0.06896569, 0.4879835 , 0.99478996],\n",
              "       [0.6574899 , 0.48427676, 0.70814031]])"
            ]
          },
          "metadata": {},
          "execution_count": 5
        }
      ]
    },
    {
      "cell_type": "markdown",
      "source": [
        "# un tableau de 3x3 rempli de valeurs aléatoires entières, comprises"
      ],
      "metadata": {
        "id": "sTQeathIwC1T"
      }
    },
    {
      "cell_type": "code",
      "source": [
        "tab_randint = np.random.randint(1,10, size=(3,3))\n",
        "tab_randint"
      ],
      "metadata": {
        "colab": {
          "base_uri": "https://localhost:8080/"
        },
        "id": "u4Ca8zqQwGWz",
        "outputId": "7bc5810e-a9c0-4e23-a014-cbb380278d5e"
      },
      "execution_count": null,
      "outputs": [
        {
          "output_type": "execute_result",
          "data": {
            "text/plain": [
              "array([[3, 3, 8],\n",
              "       [8, 8, 5],\n",
              "       [7, 8, 8]])"
            ]
          },
          "metadata": {},
          "execution_count": 6
        }
      ]
    },
    {
      "cell_type": "markdown",
      "source": [
        "## Tableau à plusieurs dimensions"
      ],
      "metadata": {
        "id": "VksU2YBcxqUx"
      }
    },
    {
      "cell_type": "code",
      "source": [
        "import numpy as np\n",
        "tableau = [[1000,100,10],\n",
        "[2000,200,20],[3000,300,30],[4000,400,40],[5000,500,50]]\n",
        "tableau_array = np.array(tableau)\n",
        "tableau_array"
      ],
      "metadata": {
        "colab": {
          "base_uri": "https://localhost:8080/"
        },
        "id": "RAIDyYRn6y93",
        "outputId": "ece11ffd-fce9-4810-b98f-8bcd889ed089"
      },
      "execution_count": null,
      "outputs": [
        {
          "output_type": "execute_result",
          "data": {
            "text/plain": [
              "array([[1000,  100,   10],\n",
              "       [2000,  200,   20],\n",
              "       [3000,  300,   30],\n",
              "       [4000,  400,   40],\n",
              "       [5000,  500,   50]])"
            ]
          },
          "metadata": {},
          "execution_count": 8
        }
      ]
    },
    {
      "cell_type": "markdown",
      "source": [
        "##accéder indice de la première ligne, première colonne"
      ],
      "metadata": {
        "id": "inLhEBfW8rNt"
      }
    },
    {
      "cell_type": "code",
      "source": [
        "tableau_array[0,0]\n"
      ],
      "metadata": {
        "colab": {
          "base_uri": "https://localhost:8080/"
        },
        "id": "Mxn2dPSL8wFc",
        "outputId": "f8731ce5-af44-4697-832c-13080a33fe5f"
      },
      "execution_count": null,
      "outputs": [
        {
          "output_type": "execute_result",
          "data": {
            "text/plain": [
              "np.int64(1000)"
            ]
          },
          "metadata": {},
          "execution_count": 10
        }
      ]
    },
    {
      "cell_type": "markdown",
      "source": [
        "##Tous les informations sur le premier client"
      ],
      "metadata": {
        "id": "mC0-ACi39B3X"
      }
    },
    {
      "cell_type": "code",
      "source": [
        "tableau_array[0,:]"
      ],
      "metadata": {
        "colab": {
          "base_uri": "https://localhost:8080/"
        },
        "id": "PTNNO3P-9Gq1",
        "outputId": "405d3e41-3e19-480f-cf18-903e7c3c70ef"
      },
      "execution_count": null,
      "outputs": [
        {
          "output_type": "execute_result",
          "data": {
            "text/plain": [
              "array([1000,  100,   10])"
            ]
          },
          "metadata": {},
          "execution_count": 11
        }
      ]
    },
    {
      "cell_type": "markdown",
      "source": [
        "## Les informations d'une colonne entière par exemple l'age qui est 2"
      ],
      "metadata": {
        "id": "JD5k_Squ9Yqp"
      }
    },
    {
      "cell_type": "code",
      "source": [
        "tableau_array[:, 2]"
      ],
      "metadata": {
        "colab": {
          "base_uri": "https://localhost:8080/"
        },
        "id": "XePC-n6b9he1",
        "outputId": "4daa18d5-f1c8-4091-afc3-ca0cebd42035"
      },
      "execution_count": null,
      "outputs": [
        {
          "output_type": "execute_result",
          "data": {
            "text/plain": [
              "array([10, 20, 30, 40, 50])"
            ]
          },
          "metadata": {},
          "execution_count": 12
        }
      ]
    },
    {
      "cell_type": "markdown",
      "source": [
        "##les clients qui ont 25 ans ou moins"
      ],
      "metadata": {
        "id": "qs2LODYG-QV6"
      }
    },
    {
      "cell_type": "code",
      "source": [
        "tableau_array[tableau_array[:, 2] <= 25]"
      ],
      "metadata": {
        "colab": {
          "base_uri": "https://localhost:8080/"
        },
        "id": "76TCyjqA9wV7",
        "outputId": "34514eb7-2228-4f2d-c758-1fddb0f441f2"
      },
      "execution_count": null,
      "outputs": [
        {
          "output_type": "execute_result",
          "data": {
            "text/plain": [
              "array([[1000,  100,   10],\n",
              "       [2000,  200,   20]])"
            ]
          },
          "metadata": {},
          "execution_count": 13
        }
      ]
    },
    {
      "cell_type": "markdown",
      "source": [
        "##Revenu supérieur à 2000"
      ],
      "metadata": {
        "id": "4tY8_Pwb-Wwr"
      }
    },
    {
      "cell_type": "code",
      "source": [
        "tableau_array[tableau_array[:, 0] > 2000]"
      ],
      "metadata": {
        "colab": {
          "base_uri": "https://localhost:8080/"
        },
        "id": "xDZnMWYA-gWn",
        "outputId": "aeb70edf-e3c9-4cf0-bf66-69f94d8f707d"
      },
      "execution_count": null,
      "outputs": [
        {
          "output_type": "execute_result",
          "data": {
            "text/plain": [
              "array([[3000,  300,   30],\n",
              "       [4000,  400,   40],\n",
              "       [5000,  500,   50]])"
            ]
          },
          "metadata": {},
          "execution_count": 14
        }
      ]
    },
    {
      "cell_type": "markdown",
      "source": [],
      "metadata": {
        "id": "mqKg8CMT-uJq"
      }
    },
    {
      "cell_type": "code",
      "source": [
        "fred= [6000,  600,  60]\n",
        "np.vstack((tableau_array, fred))"
      ],
      "metadata": {
        "colab": {
          "base_uri": "https://localhost:8080/"
        },
        "id": "qMZmflhS-vPL",
        "outputId": "8d2b1965-ec12-4b66-b6be-e39167b5b0e0"
      },
      "execution_count": null,
      "outputs": [
        {
          "output_type": "execute_result",
          "data": {
            "text/plain": [
              "array([[1000,  100,   10],\n",
              "       [2000,  200,   20],\n",
              "       [3000,  300,   30],\n",
              "       [4000,  400,   40],\n",
              "       [5000,  500,   50],\n",
              "       [6000,  600,   60]])"
            ]
          },
          "metadata": {},
          "execution_count": 15
        }
      ]
    },
    {
      "cell_type": "code",
      "source": [
        "import numpy as np\n",
        "b = np.array([[[1, 2],[4, 5]],\n",
        "\n",
        "        [[6, 7],[8, 9]],\n",
        "\n",
        "        [[10, 11],[12, 13]]])\n",
        "b"
      ],
      "metadata": {
        "colab": {
          "base_uri": "https://localhost:8080/"
        },
        "id": "x9T1c2vAo-Zt",
        "outputId": "8239d40d-beea-4efb-f2b5-ec9be7ce85c9"
      },
      "execution_count": null,
      "outputs": [
        {
          "output_type": "execute_result",
          "data": {
            "text/plain": [
              "array([[[ 1,  2],\n",
              "        [ 4,  5]],\n",
              "\n",
              "       [[ 6,  7],\n",
              "        [ 8,  9]],\n",
              "\n",
              "       [[10, 11],\n",
              "        [12, 13]]])"
            ]
          },
          "metadata": {},
          "execution_count": 2
        }
      ]
    }
  ]
}